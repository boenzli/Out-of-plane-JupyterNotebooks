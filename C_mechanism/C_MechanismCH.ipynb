{
 "cells": [
  {
   "cell_type": "markdown",
   "metadata": {
    "cell_id": "4e09282df6bc435b92b780b61c019eb4",
    "deepnote_cell_type": "markdown"
   },
   "source": [
    "# C-Mechanism \n",
    "### Based on D'Ayala and Speranza, 2002/2003\n",
    "\n",
    "Authors: Aline Bönzli and Caroline Heitmann, EESD EPFL\n",
    "\n",
    "This notebok was created during our work on our Master Theses at the EESD lab at EPFL and serves the visualization of an out-of-plane (OOP) mechanism of an unreinforced masonry (URM) wall. All calculations should be vefified by the user and the authors do not take any responsibility for application and interpretation of the results of this notebook. "
   ]
  },
  {
   "cell_type": "markdown",
   "metadata": {
    "cell_id": "310cdbc7c73f48c7a0315471a3718418",
    "deepnote_cell_type": "markdown"
   },
   "source": [
    "## Introduction"
   ]
  },
  {
   "cell_type": "markdown",
   "metadata": {
    "cell_id": "e0e2dcee74844ca9a04c8cbfa72899ce",
    "deepnote_cell_type": "markdown"
   },
   "source": [
    "This notebook can be used to calculate the pushover curve for a basic out-of-plane C-mechanisms of a masonry structure subject to seismic action. First, the geometric and material characteristics will be defined, then depending on these inputs, the displacement capacity for out-of-plane accelerations will be returned.\n",
    "\n",
    "This is a generic case of a bell tower. To apply it to a specific building, make sure to adapt the code where needed."
   ]
  },
  {
   "cell_type": "code",
   "execution_count": 1,
   "metadata": {
    "cell_id": "05a40ab466c446b4b6f8e6cd5a44794a",
    "deepnote_app_is_code_hidden": true,
    "deepnote_cell_type": "code",
    "deepnote_to_be_reexecuted": false,
    "execution": {
     "iopub.execute_input": "2024-02-01T10:07:55.409580Z",
     "iopub.status.busy": "2024-02-01T10:07:55.408911Z",
     "iopub.status.idle": "2024-02-01T10:07:56.474304Z",
     "shell.execute_reply": "2024-02-01T10:07:56.472789Z",
     "shell.execute_reply.started": "2024-02-01T10:07:55.409515Z"
    },
    "execution_millis": 503,
    "execution_start": 1698662243961,
    "is_code_hidden": true,
    "source_hash": null
   },
   "outputs": [],
   "source": [
    "### NOTHING TO BE CHANGED\n",
    "# Import the basic packages for the notebook\n",
    "import numpy as np # Numerical library\n",
    "import pandas as pd # Data analysis library\n",
    "import matplotlib.pyplot as plt # Plotting library\n",
    "import matplotlib.ticker as maticker #"
   ]
  },
  {
   "cell_type": "markdown",
   "metadata": {
    "cell_id": "59a555dca54842a689a0735fce3208a1",
    "deepnote_app_coordinates": {
     "h": 5,
     "w": 12,
     "x": 0,
     "y": 0
    },
    "deepnote_cell_type": "text-cell-h3",
    "formattedRanges": []
   },
   "source": [
    "## 1. Define wall geometry"
   ]
  },
  {
   "cell_type": "markdown",
   "metadata": {
    "cell_id": "7d65abf1faef4c0fb96fc0099f527920",
    "deepnote_cell_type": "markdown"
   },
   "source": [
    "This code computes the OOP mechanism referred to as C in D'Ayala (2003). This mechanism involves the rotation of two connected walls (i.e. a corner) around a horizontal hinge. The angles of crack are the result of the minimization procedure for in-plane failure."
   ]
  },
  {
   "cell_type": "code",
   "execution_count": 2,
   "metadata": {
    "cell_id": "09ee30a5d4644dcd81b26646f63379b7",
    "deepnote_app_is_code_hidden": true,
    "deepnote_cell_type": "code",
    "deepnote_to_be_reexecuted": false,
    "execution": {
     "iopub.execute_input": "2024-02-01T10:07:56.476788Z",
     "iopub.status.busy": "2024-02-01T10:07:56.476372Z",
     "iopub.status.idle": "2024-02-01T10:07:56.482339Z",
     "shell.execute_reply": "2024-02-01T10:07:56.481393Z",
     "shell.execute_reply.started": "2024-02-01T10:07:56.476759Z"
    },
    "execution_millis": 538,
    "execution_start": 1698662244467,
    "is_code_hidden": true,
    "source_hash": null
   },
   "outputs": [],
   "source": [
    "### NOTHING TO BE CHANGED\n",
    "from IPython.display import Image, display\n",
    "display(Image(filename='C_Mec_1.PNG'))\n",
    "display(Image(filename='C_Mec_2.PNG'))\n",
    "display(Image(filename='C_Mec_3.PNG'))"
   ]
  },
  {
   "cell_type": "markdown",
   "metadata": {
    "cell_id": "20193483d2624402a781f0551f04bc71",
    "deepnote_app_coordinates": {
     "h": 2,
     "w": 8,
     "x": 0,
     "y": 0
    },
    "deepnote_cell_type": "text-cell-p",
    "formattedRanges": []
   },
   "source": [
    "This block is used to define the geometry of the wall and the windows within. Note that the geometry for this particular mechanism has the potential to be quite complex. As a result, this notebook computes a generalized triangular shape with the optional inclusion of a window. The crack is approximated to run through half of the (rectangular) window."
   ]
  },
  {
   "cell_type": "code",
   "execution_count": 3,
   "metadata": {
    "cell_id": "0a5d8293826f4cfabc71a9ed2bd93c91",
    "deepnote_cell_type": "code",
    "deepnote_to_be_reexecuted": false,
    "execution": {
     "iopub.execute_input": "2024-02-01T10:07:56.483581Z",
     "iopub.status.busy": "2024-02-01T10:07:56.483330Z",
     "iopub.status.idle": "2024-02-01T10:07:56.589525Z",
     "shell.execute_reply": "2024-02-01T10:07:56.586613Z",
     "shell.execute_reply.started": "2024-02-01T10:07:56.483557Z"
    },
    "execution_millis": 305,
    "execution_start": 1698662244497,
    "source_hash": null
   },
   "outputs": [],
   "source": [
    "## Wall geometry\n",
    "H = 14.0            # Total height of wall [m]\n",
    "L1 = 6.0            # Length of wall, x-direction [m]\n",
    "L2 = 6.5            # Length of wall, y-direction [m]\n",
    "t = 1.0             # Thickness of wall [m]\n",
    "\n",
    "## Window geometry\n",
    "h_w1 = 0.6          # Height of window on length L1 [m]\n",
    "w_w1 = 0.5          # Width of window on length L1[m]\n",
    "z_w1 = 8.0          # Vertical distance from bottom of wall to bottom lefthand corner of window on length L1 [m]\n",
    "                    # (i.e. the z-coordinate of the window's left bottom corner)\n",
    "h_w2 = 0            # Height of window on length L2 [m]\n",
    "w_w2 = 0            # Width of window on length L2[m]\n",
    "z_w2 = 0            # Vertical distance from bottom of wall to bottom lefthand corner of window on length L2 [m]\n",
    "                    # (i.e. the z-coordinate of the window's left bottom corner)"
   ]
  },
  {
   "cell_type": "markdown",
   "metadata": {
    "cell_id": "5aba0201603346a49ab837f65fad33c5",
    "deepnote_cell_type": "text-cell-h3",
    "formattedRanges": []
   },
   "source": [
    "### 2. Define material properties"
   ]
  },
  {
   "cell_type": "markdown",
   "metadata": {
    "cell_id": "2237da859186429ca4b4f7cdde05b7be",
    "deepnote_cell_type": "text-cell-p",
    "formattedRanges": []
   },
   "source": [
    "In this chapter, the material properties of the wall and its connecting slab(s) are defined."
   ]
  },
  {
   "cell_type": "code",
   "execution_count": 4,
   "metadata": {
    "cell_id": "cf0c208290d440d58ea25f7cc83c5266",
    "deepnote_cell_type": "code",
    "deepnote_to_be_reexecuted": false,
    "execution": {
     "iopub.execute_input": "2024-02-01T10:07:56.593915Z",
     "iopub.status.busy": "2024-02-01T10:07:56.592862Z",
     "iopub.status.idle": "2024-02-01T10:07:56.633638Z",
     "shell.execute_reply": "2024-02-01T10:07:56.630598Z",
     "shell.execute_reply.started": "2024-02-01T10:07:56.593841Z"
    },
    "execution_millis": 42,
    "execution_start": 1698662244498,
    "source_hash": null
   },
   "outputs": [],
   "source": [
    "rho_m = 18000       # Density of the masonry [N/m^3]\n",
    "mu_f = 0.3          # Friction coefficient between slab and masonry wall"
   ]
  },
  {
   "cell_type": "markdown",
   "metadata": {
    "cell_id": "742ffb18d417474c98c0f7ec8faf5af5",
    "deepnote_cell_type": "text-cell-h3",
    "formattedRanges": []
   },
   "source": [
    "### 3. Define acting loads"
   ]
  },
  {
   "cell_type": "markdown",
   "metadata": {
    "cell_id": "e9a27d5382ce4286801e46f957d453a0",
    "deepnote_cell_type": "text-cell-p",
    "formattedRanges": []
   },
   "source": [
    "In this paragraph, the loads acting on the wall are defined. Since the mechanism is located in the bell tower at the top of the structure, the only loads to consider are axial loads coming from the roof. The load is defined as a distributed load over the length of each wall section, which will act at the midpoint of the wall length."
   ]
  },
  {
   "cell_type": "code",
   "execution_count": 5,
   "metadata": {
    "cell_id": "a8904f5b984544e9976a3a0d9f468e02",
    "deepnote_cell_type": "code",
    "deepnote_to_be_reexecuted": false,
    "execution": {
     "iopub.execute_input": "2024-02-01T10:07:56.636867Z",
     "iopub.status.busy": "2024-02-01T10:07:56.636170Z",
     "iopub.status.idle": "2024-02-01T10:07:56.678652Z",
     "shell.execute_reply": "2024-02-01T10:07:56.675940Z",
     "shell.execute_reply.started": "2024-02-01T10:07:56.636799Z"
    },
    "execution_millis": 35,
    "execution_start": 1698662244499,
    "source_hash": null
   },
   "outputs": [],
   "source": [
    "P1 = 10000          # Axial load acting on wall length L1 [N]\n",
    "P2 = 12500          # Axial load acting on wall length L2 [N]"
   ]
  },
  {
   "cell_type": "markdown",
   "metadata": {
    "cell_id": "2462763867c44e21af39b3ef3ec3d64c",
    "deepnote_cell_type": "text-cell-h3",
    "formattedRanges": []
   },
   "source": [
    "### 4. Calculate the overturning moment"
   ]
  },
  {
   "cell_type": "markdown",
   "metadata": {
    "cell_id": "0e0ce22987d94a57b45be1ef43168a49",
    "deepnote_app_coordinates": {
     "h": 2,
     "w": 8,
     "x": 0,
     "y": 0
    },
    "deepnote_cell_type": "text-cell-p",
    "formattedRanges": []
   },
   "source": [
    "The following block calculates the pushover curve for the given case. The only lines to pay attention to are those that define the geometry of the bell tower. As mentioned above, the current notebook evaluates a bell tower with one window on the front facade and no windows on the side facade. Change the functions  for example, to consider additional windows or crack eccentricity). The current conception involves one window in the leftmost facade and no windows in the rightmost facade. "
   ]
  },
  {
   "cell_type": "markdown",
   "metadata": {
    "cell_id": "5d51d2fdf6b648dbbfa47e42018dfe9b",
    "deepnote_cell_type": "text-cell-p",
    "formattedRanges": []
   },
   "source": [
    "After applying the lateral load, the wall begins to rotate around a pivot point. Considering the deformed state (while assuming small deformations), the static equilibrium is calculated for a range of displacements to capture the whole response."
   ]
  },
  {
   "cell_type": "code",
   "execution_count": 6,
   "metadata": {
    "cell_id": "2fb88077239742319051c0c8000df7bc",
    "deepnote_app_coordinates": {
     "h": 5,
     "w": 12,
     "x": 0,
     "y": 0
    },
    "deepnote_cell_type": "code",
    "deepnote_to_be_reexecuted": false,
    "execution": {
     "iopub.execute_input": "2024-02-01T10:07:56.688751Z",
     "iopub.status.busy": "2024-02-01T10:07:56.686595Z",
     "iopub.status.idle": "2024-02-01T10:07:56.720957Z",
     "shell.execute_reply": "2024-02-01T10:07:56.718949Z",
     "shell.execute_reply.started": "2024-02-01T10:07:56.688693Z"
    },
    "execution_millis": 82,
    "execution_start": 1698662244503,
    "source_hash": null
   },
   "outputs": [],
   "source": [
    "## Specify location of windows\n",
    "# use \"yes\" if there is (one) window present\n",
    "# use \"no\" if no windows are present\n",
    "\n",
    "facade_left = \"yes\"\n",
    "facade_right = \"no\""
   ]
  },
  {
   "cell_type": "code",
   "execution_count": 7,
   "metadata": {
    "cell_id": "d0a4c19a9b7c42dd8878fb85981a0f3d",
    "deepnote_app_is_code_hidden": true,
    "deepnote_cell_type": "code",
    "deepnote_to_be_reexecuted": false,
    "execution": {
     "iopub.execute_input": "2024-02-01T10:07:56.725337Z",
     "iopub.status.busy": "2024-02-01T10:07:56.724570Z",
     "iopub.status.idle": "2024-02-01T10:07:56.778535Z",
     "shell.execute_reply": "2024-02-01T10:07:56.776673Z",
     "shell.execute_reply.started": "2024-02-01T10:07:56.725268Z"
    },
    "execution_millis": 22,
    "execution_start": 1698662244552,
    "is_code_hidden": false,
    "source_hash": null
   },
   "outputs": [],
   "source": [
    "### NOTHING TO BE CHANGED\n",
    "## Define the calculation of the center of gravity for a bell tower block with a window\n",
    "# local coordinate system for x-, y-, and z-directions\n",
    "def cog_fun_win(t,Lx,H,w_w,h_w,z_w):\n",
    "    Ab = (Lx*H/2)-(w_w*h_w/2)                                  # Area of block [m^2]\n",
    "    vol = t*Ab                                                 # Volume of block [m^3]\n",
    "    COG_x = ((Lx/3)*(Lx*H/2)-(Lx/2)*(w_w*h_w/2))/Ab            # x-centroid [m]\n",
    "    COG_y = t/2                                                # y-centroid [m]\n",
    "    COG_z = ((2*H/3)*(Lx*H/2)-(h_w/2+z_w)*(w_w*h_w/2))/Ab      # z-centroid [m]\n",
    "\n",
    "    return COG_x,COG_y,COG_z,vol\n",
    "\n",
    "## Define the calculation of the center of gravity for a bell tower block with no windows\n",
    "#  local coordinate system for x-, y-, and z-directions\n",
    "def cog_fun(t,Lx,H):\n",
    "    Ab = Lx*H/2                                                # Area of block [m^2]\n",
    "    vol = t*Ab                                                 # Volume of block [m^3]\n",
    "    COG_x = Lx/3                                               # x-centroid [m]\n",
    "    COG_y = t/2                                                # y-centroid [m]\n",
    "    COG_z = 2*H/3                                              # z-centroid [m]\n",
    "\n",
    "    return COG_x,COG_y,COG_z,vol\n",
    "\n",
    "## Calculate COGs according to presence of windows\n",
    "def calc_cog(facade_ind,t,Lx,H,w_w,h_w,z_w):\n",
    "    if facade_ind == \"yes\":\n",
    "        [COG_x,COG_y,COG_z,vol] = cog_fun_win(t,Lx,H,w_w,h_w,z_w)\n",
    "    else:\n",
    "        [COG_x,COG_y,COG_z,vol] = cog_fun(t,Lx,H)\n",
    "    \n",
    "    return COG_x,COG_y,COG_z,vol\n",
    "\n",
    "## Calculate mass of each block (left = block 1, right = block 2)\n",
    "[xbar1,ybar1,zbar1,vol1] = calc_cog(facade_left,t,L1,H,w_w1,h_w1,z_w1)\n",
    "[xbar2,ybar2,zbar2,vol2] = calc_cog(facade_right,t,L2,H,w_w2,h_w2,z_w2)\n",
    "m1 = rho_m*vol1/9.81\n",
    "m2 = rho_m*vol2/9.81\n",
    "\n",
    "# organize properties\n",
    "h = np.array([[zbar1,zbar2]])        # Height (i.e. y-centroid) of each rigid block [m]\n",
    "m = np.array([[m1,m2]])              # Mass of each rigid block [kg]\n",
    "\n",
    "## Derive other loads acting on the blocks\n",
    "Ff1 = mu_f*P1                        # Friction force from roof acting on top of wall length L1 [N]\n",
    "Ff2 = mu_f*P2                        # Friction force from roof acting on top of wall length L2 [N]\n",
    "\n",
    "G1 = m1*9.81                         # Gravity load of block 1 (self-weight) [N]\n",
    "G2 = m2*9.81                         # Gravity load of block 2 (self-weight) [N]\n",
    "\n",
    "## Consider rotation about the x-axis – determine the lateral force necessary for overturning\n",
    "def Q_fun_x(delta,Ff,H,P1,P2,G1,G2,L1,t,xbar1,xbar2,zbar1,zbar2): \n",
    "    # all forces contribute\n",
    "    if delta<t/2:\n",
    "        Q_equ=2*(Ff*H+P1*(L1/2-delta)+P2*(t/2-delta)+G1*(ybar1-delta*zbar1/H)+G2*(ybar2-delta*zbar2/H))/(zbar1+zbar2)\n",
    "    # connection with out-of-plane wall is lost\n",
    "    elif delta>=t/2 and delta<L1/2:\n",
    "        Q_equ=2*(Ff*H+P1*(L1/2-delta)+G1*(ybar1-delta*zbar1/H)+G2*(ybar2-delta*zbar2/H))/(zbar1+zbar2) \n",
    "    # connection with in-plane wall is lost\n",
    "    elif delta>=L1/2:\n",
    "        Q_equ=2*((G1*(ybar1-delta*zbar1/H))+(G2*(ybar2-delta*zbar2/H)))/(zbar1+zbar2) \n",
    "\n",
    "    return Q_equ\n",
    "\n",
    "# determine the horizontal multiplier \n",
    "def a_fun_x(Q_x,H,G1,G2): \n",
    "    alpha_equ = Q_x*H/(G1+G2)\n",
    "    \n",
    "    return alpha_equ\n",
    "\n",
    "## Consider rotation about the y-axis – determine the lateral force necessary for overturning\n",
    "def Q_fun_y(delta,Ff,H,P1,P2,G1,G2,L2,t,xbar1,xbar2,zbar1,zbar2): \n",
    "    # all forces contribute\n",
    "    if delta<t/2:\n",
    "        Q_equ=2*(Ff*H+P2*(L2/2-delta)+P1*(t/2-delta)+G1*(xbar1-delta*zbar1/H)+G2*(xbar2-delta*zbar2/H))/(zbar1+zbar2)\n",
    "    # connection with out-of-plane wall is lost\n",
    "    elif delta>=t/2 and delta<L2/2:\n",
    "        Q_equ=2*(Ff*H+P2*(L2/2-delta)+G1*(xbar1-delta*zbar1/H)+G2*(xbar2-delta*zbar2/H))/(zbar1+zbar2)\n",
    "    # connection with in-plane wall is lost\n",
    "    elif delta>=L2/2:\n",
    "        Q_equ=2*(G1*(xbar1-delta*zbar1/H)+G2*(xbar2-delta*zbar2/H))/(zbar1+zbar2) \n",
    "    \n",
    "    return Q_equ\n",
    "\n",
    "# determine the horizontal multiplier\n",
    "def a_fun_y(Q_y,H,G1,G2): \n",
    "    alpha_equ = Q_y*H/(G1+G2)\n",
    "    \n",
    "    return alpha_equ\n",
    "\n",
    "## Calculate the displacement at the top of the blocks – here, it is calculated for rotation around the \n",
    "## y-axis, since this is the controlling case\n",
    "def delta_fun_y(Qs,Ff,H,P1,P2,G1,G2,L2,t,xbar1,xbar2,zbar1,zbar2): \n",
    "    del_equ=((Ff*H)+(P2*L2/2)+(P1*t/2)+(G1*xbar1)+(G2*xbar2)-(0.5*Qs*(zbar1+zbar2)))/(P1+P2+(G1*zbar1/H)+(G2*zbar2/H))\n",
    "    \n",
    "    return del_equ"
   ]
  },
  {
   "cell_type": "code",
   "execution_count": 8,
   "metadata": {
    "cell_id": "8fe30e98be4348dfb4ad38114bccb145",
    "deepnote_app_is_code_hidden": true,
    "deepnote_cell_type": "code",
    "deepnote_to_be_reexecuted": false,
    "execution": {
     "iopub.execute_input": "2024-02-01T10:07:56.780076Z",
     "iopub.status.busy": "2024-02-01T10:07:56.779746Z",
     "iopub.status.idle": "2024-02-01T10:07:57.250438Z",
     "shell.execute_reply": "2024-02-01T10:07:57.249294Z",
     "shell.execute_reply.started": "2024-02-01T10:07:56.780045Z"
    },
    "execution_millis": 168,
    "execution_start": 1698662520909,
    "is_code_hidden": false,
    "source_hash": null
   },
   "outputs": [
    {
     "data": {
      "text/plain": [
       "Text(0.5, 1.0, 'Force-Displacement')"
      ]
     },
     "execution_count": 8,
     "metadata": {},
     "output_type": "execute_result"
    },
    {
     "data": {
      "image/png": "[encoded data removed]",
      "text/plain": [
       "<Figure size 640x480 with 1 Axes>"
      ]
     },
     "metadata": {},
     "output_type": "display_data"
    }
   ],
   "source": [
    "### NOTHING TO BE CHANGED\n",
    "# plot force-displacement relationship\n",
    "delta_vals = np.linspace(0,H,1000)\n",
    "f_vals_x = np.zeros((1000,1))\n",
    "f_vals_y = np.zeros((1000,1))\n",
    "\n",
    "for i in range(1000):\n",
    "    f_vals_x[i] = Q_fun_x(delta_vals[i],Ff2,H,P1,P2,G1,G2,L1,t,ybar1,ybar2,zbar1,zbar2)\n",
    "    f_vals_y[i] = Q_fun_y(delta_vals[i],Ff1,H,P1,P2,G1,G2,L2,t,xbar1,xbar2,zbar1,zbar2)\n",
    "\n",
    "# Transformation to only display values up to failure\n",
    "f_vals_x = f_vals_x[f_vals_x>=0]\n",
    "delta_vals_x = delta_vals[: np.size(f_vals_x)]\n",
    "f_vals_y = f_vals_y[f_vals_y>=0]\n",
    "delta_vals_y = delta_vals[: np.size(f_vals_y)]\n",
    "delta_min=min(delta_vals_x[-1],delta_vals_y[-1])\n",
    "    \n",
    "plt.figure()\n",
    "plt.grid()\n",
    "plt.plot(delta_vals_x,f_vals_x/1000,color='blue',label='Rotation about x-axis')\n",
    "plt.plot(delta_vals_y,f_vals_y/1000,color='green',label='Rotation about y-axis')\n",
    "plt.plot([0,0],[0,f_vals_y[0]/1000],color='green')\n",
    "plt.plot([0,0],[0,f_vals_x[0]/1000],color='blue')\n",
    "\n",
    "plt.legend()\n",
    "plt.xlabel('$\\delta$ [m]')\n",
    "plt.ylabel('Q [kN]')\n",
    "plt.title('Force-Displacement')"
   ]
  },
  {
   "cell_type": "code",
   "execution_count": 9,
   "metadata": {
    "allow_embed": false,
    "cell_id": "537e4cce869b4a22b6ad013497e784ef",
    "deepnote_app_is_code_hidden": true,
    "deepnote_cell_type": "code",
    "deepnote_to_be_reexecuted": false,
    "execution": {
     "iopub.execute_input": "2024-02-01T10:07:57.251835Z",
     "iopub.status.busy": "2024-02-01T10:07:57.251548Z",
     "iopub.status.idle": "2024-02-01T10:07:57.579670Z",
     "shell.execute_reply": "2024-02-01T10:07:57.578739Z",
     "shell.execute_reply.started": "2024-02-01T10:07:57.251810Z"
    },
    "execution_millis": 34,
    "execution_start": 1698662282893,
    "is_code_hidden": true,
    "source_hash": null
   },
   "outputs": [
    {
     "data": {
      "text/plain": [
       "Text(0.5, 1.0, 'a - Displacement')"
      ]
     },
     "execution_count": 9,
     "metadata": {},
     "output_type": "execute_result"
    },
    {
     "data": {
      "image/png": "[encoded data removed]",
      "text/plain": [
       "<Figure size 640x480 with 1 Axes>"
      ]
     },
     "metadata": {},
     "output_type": "display_data"
    }
   ],
   "source": [
    "### NOTHING TO BE CHANGED\n",
    "# plot relationship between load factor and displacement\n",
    "a_vals_x = np.zeros((1000,1))\n",
    "a_vals_y = np.zeros((1000,1))\n",
    "\n",
    "for i in range(1000):\n",
    "    Q_x = Q_fun_x(delta_vals[i],Ff2,H,P1,P2,G1,G2,L1,t,ybar1,ybar2,zbar1,zbar2)\n",
    "    Q_y = Q_fun_y(delta_vals[i],Ff1,H,P1,P2,G1,G2,L2,t,xbar1,xbar2,zbar1,zbar2)\n",
    "    a_vals_x[i] = a_fun_x(Q_x,H,G1,G2)\n",
    "    a_vals_y[i] = a_fun_y(Q_y,H,G1,G2)\n",
    "\n",
    "# Transformation to only display values up to failure \n",
    "a_vals_x = a_vals_x[a_vals_x>=0]\n",
    "delta_vals_x = delta_vals[: np.size(a_vals_x)]\n",
    "a_vals_y = a_vals_y[a_vals_y>=0]\n",
    "delta_vals_y = delta_vals[: np.size(f_vals_y)]\n",
    "\n",
    "plt.figure()\n",
    "plt.grid()\n",
    "plt.plot(delta_vals_x,a_vals_x,color='blue',label='Rotation about x-axis')\n",
    "plt.plot(delta_vals_y,a_vals_y,color='green',label='Rotation about y-axis')\n",
    "plt.plot([0,0],[0,a_vals_y[0]],color='green')\n",
    "plt.plot([0,0],[0,a_vals_x[0]],color='blue')\n",
    "plt.legend()\n",
    "\n",
    "plt.xlabel('$\\delta$ [m]')\n",
    "plt.ylabel('a [-]')\n",
    "plt.title('a - Displacement')"
   ]
  },
  {
   "cell_type": "markdown",
   "metadata": {
    "cell_id": "fd8b5173620447b7925c0b0178160fae",
    "deepnote_cell_type": "text-cell-h3",
    "formattedRanges": []
   },
   "source": [
    "### 5. Computation of capacity curve"
   ]
  },
  {
   "cell_type": "markdown",
   "metadata": {
    "cell_id": "fbe5fe7739924b17b6af3fe8d37591ab",
    "deepnote_cell_type": "text-cell-p",
    "formattedRanges": []
   },
   "source": [
    "This section will allow you to analyze the structural response in the context of the seismic spectrum. The goal is to compare the capacity curve to the response spectrum, which will allow the behaviour of the wall to be interpreted (e.g., indicating whether it would meet its design requirements)."
   ]
  },
  {
   "cell_type": "markdown",
   "metadata": {
    "cell_id": "ad717a9885b14c82ba11e4518c59e31d",
    "deepnote_cell_type": "text-cell-p",
    "formattedRanges": []
   },
   "source": [
    "The main input is the spectral acceleration (for a 475-year return period) for the wall in its given location, as well as its period. For users of the Swiss code, SIA 261 chapter 16.2.1.2 provides the horizontal soil acceleration for each seismic zone; otherwise it can be found in the relevant National Annex of the Eurocode. The period can be computed by calculating the mass and total stiffness (dependent on both flexural and shear stiffness), through an approximation such as the one found in SIA 261 16.5.2.3., or a modal analysis."
   ]
  },
  {
   "cell_type": "markdown",
   "metadata": {
    "cell_id": "bb406a4522b7483483423de64bf00bff",
    "deepnote_cell_type": "text-cell-p",
    "formattedRanges": []
   },
   "source": [
    "As stated above, this section will provide an interpretation of the wall's behavior according to a trilinear force-displacement model. These model utilizes three points: two displacement parameters, $\\delta_1$ and $\\delta_2$, and the maximum displacement capacity, $\\delta_0$. Below, the trilinear approximation as determined by Griffith et al. (2003) is plotted alongside the bilinear relationship and the real semi-rigid nonlinear relationship. According to Griffith et al. (2003), these coefficients depend on the material quality. Note that for this notebook, $\\delta_u$ is approximated to be equivalent to $\\delta_0$ in this code."
   ]
  },
  {
   "cell_type": "code",
   "execution_count": 10,
   "metadata": {
    "cell_id": "183c42ff8e6345c68cac206dce70a60f",
    "deepnote_app_coordinates": {
     "h": 5,
     "w": 12,
     "x": 0,
     "y": 0
    },
    "deepnote_app_is_code_hidden": true,
    "deepnote_cell_type": "code",
    "deepnote_to_be_reexecuted": false,
    "execution": {
     "iopub.execute_input": "2024-02-01T10:07:57.580926Z",
     "iopub.status.busy": "2024-02-01T10:07:57.580662Z",
     "iopub.status.idle": "2024-02-01T10:07:57.585497Z",
     "shell.execute_reply": "2024-02-01T10:07:57.584392Z",
     "shell.execute_reply.started": "2024-02-01T10:07:57.580903Z"
    },
    "execution_millis": 167,
    "execution_start": 1698662740829,
    "is_code_hidden": true,
    "source_hash": null
   },
   "outputs": [],
   "source": [
    "display(Image(filename='Griffith_Trilinear.png'))"
   ]
  },
  {
   "cell_type": "markdown",
   "metadata": {},
   "source": [
    "This block is used to define the horizontal reference acceleration that can be found on seismic maps, sh as the one provided in the appendix of SIA 261 or the natinal annexes of the Eurocode."
   ]
  },
  {
   "cell_type": "code",
   "execution_count": 11,
   "metadata": {
    "cell_id": "7fa94bc9f6c34eaf81f0ed5afa3ab77e",
    "deepnote_app_coordinates": {
     "h": 5,
     "w": 12,
     "x": 0,
     "y": 0
    },
    "deepnote_cell_type": "code",
    "deepnote_to_be_reexecuted": false,
    "execution": {
     "iopub.execute_input": "2024-02-01T10:07:57.586847Z",
     "iopub.status.busy": "2024-02-01T10:07:57.586554Z",
     "iopub.status.idle": "2024-02-01T10:07:57.634200Z",
     "shell.execute_reply": "2024-02-01T10:07:57.631605Z",
     "shell.execute_reply.started": "2024-02-01T10:07:57.586822Z"
    },
    "execution_millis": 28,
    "execution_start": 1698662765315,
    "source_hash": null
   },
   "outputs": [],
   "source": [
    "agr = 0.195           # Horizontal soil acceleration [g]\n",
    "\n",
    "# Choose the coefficients for the trilinear model per Griffith et al. (2003)\n",
    "d1 = 0.125            # Range from 0.05 to 0.20\n",
    "d2 = 0.375            # Range from 0.25 to 0.50"
   ]
  },
  {
   "cell_type": "markdown",
   "metadata": {
    "cell_id": "002922800f9f4e97b97c758c65be8a8d",
    "deepnote_cell_type": "text-cell-p",
    "formattedRanges": []
   },
   "source": [
    "Response spectra are defined for single degree of freedom (DOF) systems, however, the C mechanism involves several rigid blocks and hence several DOFs. In order to compare the capacity curve to the spectrum, the MDOF system is transformed into a SDOF system."
   ]
  },
  {
   "cell_type": "code",
   "execution_count": 21,
   "metadata": {
    "cell_id": "39341d3d31374f79bc0d12695ccb6ab0",
    "deepnote_app_is_code_hidden": true,
    "deepnote_cell_type": "code",
    "deepnote_to_be_reexecuted": false,
    "execution": {
     "iopub.execute_input": "2024-02-01T10:08:53.959132Z",
     "iopub.status.busy": "2024-02-01T10:08:53.958248Z",
     "iopub.status.idle": "2024-02-01T10:08:53.977686Z",
     "shell.execute_reply": "2024-02-01T10:08:53.975462Z",
     "shell.execute_reply.started": "2024-02-01T10:08:53.959055Z"
    },
    "execution_millis": 806,
    "execution_start": 1698662245312,
    "is_code_hidden": true,
    "source_hash": null,
    "tags": []
   },
   "outputs": [],
   "source": [
    "# normalize accelerations\n",
    "acc_top = 1                                                    # start by normalizing top of triangle\n",
    "acc_norm = np.array([[acc_top,acc_top]])                       # normalized acceleration [m/s^2]\n",
    "Q_max = min(f_vals_x[0],f_vals_y[0])\n",
    "Delta_top = np.abs(delta_fun_y(Q_max,Ff1,H,P1,P2,G1,G2,L2,t,xbar1,xbar2,zbar1,zbar2))   # displacement capacity [m]\n",
    "\n",
    "# calculate effective properties\n",
    "m_star = (np.sum(acc_norm*m)**2)/np.sum((acc_norm**2)*m)       # effective mass (SDOF) [kg]\n",
    "h_star = np.sum(h*acc_norm*m)/np.sum(acc_norm*m)               # effective height (SDOF) [m]\n",
    "a_star = agr*np.sum(m)*9.81/m_star                                # effective acceleration (SDOF) [m/s^2]\n",
    "Gamma = 1/(np.sum((acc_norm**2)*m)/np.sum(acc_norm*m))         # participation factor [-]\n",
    "Delta_star = Delta_top/Gamma                                   # effective displacement (SDOF) [m]"
   ]
  },
  {
   "cell_type": "markdown",
   "metadata": {
    "cell_id": "4df2636ebf5c42ec807e4ad83de925e6",
    "deepnote_app_coordinates": {
     "h": 2,
     "w": 8,
     "x": 0,
     "y": 0
    },
    "deepnote_cell_type": "text-cell-p",
    "formattedRanges": []
   },
   "source": [
    "To compute the response spectrum, it is necessary to specify the soil type per SIA 261 Tableau 24 or the Eurocode National Annex for a particular country. In the following code, the spectra are defined according to the Swiss codes, but it can be easily updated to reflect the country of your choosing. \n",
    "\n",
    "Alternatively, sometimes the response spectra are defined according to the limit state for analysis. The available limit states are: 'serviceability', 'damage limitation', 'significant damage' or 'near collapse. If the response spectra are independent of the limit state (for example, as is the case when using SIA 261), simply compute the resistance of the wall according to its limit state. More information can be found in EC 8 chapter 4.2.3. \n",
    "\n",
    "After the computation of the response spectrum, the capacity curve can be plotted alongside the acceleration-displacement response spectrum. This provides a direct comparison between the specific behavior of the elements in question (in this case, the wall) and the spectrum of the desired limit state (either serviceability state, damage limitation, significant damage, or near collapse), and it can quickly give the spectral acceleration for a certain spectral displacement. \n",
    "\n",
    "This displacement-based evaluation utilizes the equal displacement \"rule\" for periods larger than $T_c$ and the equal energy \"rule\" for periods smaller than $T_c$. Thus, to interpret the results, extend the initial positive linear part of the capacity curve until it intersects the ADRS, and draw a vertical line at this intersection. If $T < T_c$, the actual displacement will be slightly larger than the displacement at the intersection of the capacity curve and the vertical line; if $T > T_c$, the actual displacement will be equivalent to the displacement at the intersection of the capacity curve and the vertical line. The displacement capacity is exceeded if the determined displacement is larger than the end of the capacity curve. \n",
    "\n",
    "In the next block you can specify your soil type based on the location of your wall."
   ]
  },
  {
   "cell_type": "code",
   "execution_count": 24,
   "metadata": {
    "cell_id": "670a187fcd3446eca25c564cfd43683c",
    "deepnote_app_coordinates": {
     "h": 5,
     "w": 12,
     "x": 0,
     "y": 0
    },
    "deepnote_cell_type": "code",
    "deepnote_to_be_reexecuted": false,
    "execution": {
     "iopub.execute_input": "2024-02-01T10:08:56.016367Z",
     "iopub.status.busy": "2024-02-01T10:08:56.015470Z",
     "iopub.status.idle": "2024-02-01T10:08:56.026739Z",
     "shell.execute_reply": "2024-02-01T10:08:56.024225Z",
     "shell.execute_reply.started": "2024-02-01T10:08:56.016291Z"
    },
    "execution_millis": 32,
    "execution_start": 1698662807363,
    "source_hash": null,
    "tags": []
   },
   "outputs": [],
   "source": [
    "soil_type = 'D'        # specify the soil type (ranging from A to E)"
   ]
  },
  {
   "cell_type": "code",
   "execution_count": 25,
   "metadata": {
    "cell_id": "1d006fdfdf8c49f6a5f7192014789cff",
    "deepnote_app_coordinates": {
     "h": 5,
     "w": 12,
     "x": 0,
     "y": 0
    },
    "deepnote_app_is_code_hidden": true,
    "deepnote_cell_type": "code",
    "deepnote_to_be_reexecuted": false,
    "execution": {
     "iopub.execute_input": "2024-02-01T10:08:56.371624Z",
     "iopub.status.busy": "2024-02-01T10:08:56.370781Z",
     "iopub.status.idle": "2024-02-01T10:08:56.395030Z",
     "shell.execute_reply": "2024-02-01T10:08:56.392895Z",
     "shell.execute_reply.started": "2024-02-01T10:08:56.371553Z"
    },
    "execution_millis": 12,
    "execution_start": 1698662822841,
    "is_code_hidden": true,
    "source_hash": null,
    "tags": []
   },
   "outputs": [],
   "source": [
    "### NOTHING TO BE CHANGED\n",
    "\n",
    "## Determine the periods that define the spectrum according to the soil type, with values from SIA 261 Tab. 24\n",
    "def spectrum_vals(soil_type): \n",
    "    if soil_type == 'A':\n",
    "        S = 1.00                                 # [-]\n",
    "        Tb = 0.15                                # [s]\n",
    "        Tc = 0.40                                # [s]\n",
    "        Td = 2.00                                # [s]\n",
    "    elif soil_type == 'B':\n",
    "        S = 1.20                                 # [-]\n",
    "        Tb = 0.15                                # [s]\n",
    "        Tc = 0.50                                # [s]\n",
    "        Td = 2.00                                # [s]\n",
    "    elif soil_type == 'C':\n",
    "        S = 1.15                                 # [-]\n",
    "        Tb = 0.20                                # [s]\n",
    "        Tc = 0.60                                # [s]\n",
    "        Td = 2.00                                # [s]\n",
    "    elif soil_type == 'D':\n",
    "        S = 1.35                                 # [-]\n",
    "        Tb = 0.20                                # [s]\n",
    "        Tc = 0.80                                # [s]\n",
    "        Td = 2.00                                # [s]\n",
    "    elif soil_type == 'E':\n",
    "        S = 1.40                                 # [-]\n",
    "        Tb = 0.15                                # [s]\n",
    "        Tc = 0.50                                # [s]\n",
    "        Td = 2.00                                # [s]\n",
    "    \n",
    "    return S,Tb,Tc,Td\n",
    "\n",
    "## Determine the spectral acceleration according to the structure's fundamental period\n",
    "def RS(T,agr,S,Tb,Tc,Td):\n",
    "\n",
    "    # determine spectral ground acceleration for dimensionning \n",
    "    g = 9.81                                     # [m/s^2]\n",
    "    agd = agr*g                                  # [m/s^2]\n",
    "    zeta = 0.05                                  # assume damping ratio to be 5% [-]\n",
    "    eta = max(np.sqrt(1/(0.5+10*zeta)),0.55)     # reduction coefficent [-]\n",
    "\n",
    "    # compute spectrum according to period\n",
    "    if T<Tb: \n",
    "        Se = agd*S*(1+(T/Tb)*(eta*2.5-1))\n",
    "    elif T>=Tb and T<Tc:\n",
    "        Se = agd*S*eta*2.5\n",
    "    elif T>=Tc and T<Td:\n",
    "        Se = agd*S*eta*2.5*(Tc/T)\n",
    "    else:\n",
    "        Se = agd*S*eta*2.5*(Tc*Td/T**2)\n",
    "\n",
    "    return Se"
   ]
  },
  {
   "cell_type": "code",
   "execution_count": 26,
   "metadata": {
    "cell_id": "61954e77741c4324b46f67e7ee0ae2bb",
    "deepnote_app_is_code_hidden": true,
    "deepnote_cell_type": "code",
    "deepnote_to_be_reexecuted": false,
    "execution": {
     "iopub.execute_input": "2024-02-01T10:08:56.810907Z",
     "iopub.status.busy": "2024-02-01T10:08:56.810010Z",
     "iopub.status.idle": "2024-02-01T10:08:57.178224Z",
     "shell.execute_reply": "2024-02-01T10:08:57.177084Z",
     "shell.execute_reply.started": "2024-02-01T10:08:56.810824Z"
    },
    "execution_millis": 528,
    "execution_start": 1698662843607,
    "is_code_hidden": true,
    "source_hash": null,
    "tags": []
   },
   "outputs": [
    {
     "data": {
      "text/plain": [
       "Text(0.5, 1.0, 'ADRS')"
      ]
     },
     "execution_count": 26,
     "metadata": {},
     "output_type": "execute_result"
    },
    {
     "data": {
      "image/png": "[encoded data removed]",
      "text/plain": [
       "<Figure size 640x480 with 1 Axes>"
      ]
     },
     "metadata": {},
     "output_type": "display_data"
    }
   ],
   "source": [
    "### NOTHING TO BE CHANGED\n",
    "# Calculate the displacement parameters per Griffith et al. (2003)\n",
    "Delta1 = d1*Delta_star           # [m]\n",
    "Delta2 = d2*Delta_star           # [m]\n",
    "\n",
    "# Write vectors for plotting\n",
    "x = np.array([[0],[Delta1],[Delta2]])\n",
    "y = np.array([[0],[a_star],[a_star]])\n",
    "\n",
    "## Compute ADRS\n",
    "# Initialize vectors\n",
    "Qs = np.sum(m)*agr\n",
    "T_vals = np.linspace(0,4,1000)\n",
    "Su_vals = np.zeros((len(T_vals),1))\n",
    "Se_vals = np.zeros((len(T_vals),1))\n",
    "[S,Tb,Tc,Td] = spectrum_vals(soil_type)\n",
    "\n",
    "for i in range(1,1000):\n",
    "    omega = 2*np.pi/T_vals[i]                                           # natural frequency [rad/s]\n",
    "    Se_vals[i] = RS(T_vals[i],agr,S,Tb,Tc,Td)                           # spectral acceleration [m/s^2]\n",
    "    if T_vals[i] < Tc: \n",
    "        Ry = max(Se_vals[i]*m_star/Qs,1)                                # R relationship [-]\n",
    "        wd_int = ((Ry-1)*Tc/T_vals[i] + 1)*Se_vals[i]/((omega**2)*Ry)   # displacement capacity [m]\n",
    "        Su_vals[i] = min(wd_int,3*Se_vals[i]/omega**2)                  # spectral displacement capacity [m]\n",
    "    else:\n",
    "        Su_vals[i] = Se_vals[i]/(omega**2)                              # spectral displacement capacity [m]\n",
    "\n",
    "## Plot capacity curve\n",
    "# plot results\n",
    "plt.figure()\n",
    "plt.grid()\n",
    "plt.plot(Su_vals,Se_vals,label='ADRS')\n",
    "plt.plot(x,y,label='Capacity Curve')\n",
    "plt.legend()\n",
    "plt.xlabel('S$_u$ [m]')\n",
    "plt.ylabel('S$_{pa}$ [m/s$^2$]')\n",
    "plt.title('ADRS')"
   ]
  },
  {
   "cell_type": "markdown",
   "metadata": {
    "created_in_deepnote_cell": true,
    "deepnote_cell_type": "markdown"
   },
   "source": [
    "<a style='text-decoration:none;line-height:16px;display:flex;color:#5B5B62;padding:10px;justify-content:end;' href='https://deepnote.com?utm_source=created-in-deepnote-cell&projectId=ec31d9b1-b904-46de-90ff-bc7ed068e5e5' target=\"_blank\">\n",
    "<img alt='Created in deepnote.com' style='display:inline;max-height:16px;margin:0px;margin-right:7.5px;' src='data:image/svg+xml;base64,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' > </img>\n",
    "Created in <span style='font-weight:600;margin-left:4px;'>Deepnote</span></a>"
   ]
  },
  {
   "cell_type": "code",
   "execution_count": null,
   "metadata": {},
   "outputs": [],
   "source": []
  }
 ],
 "metadata": {
  "deepnote_app_layout": "powerful-article",
  "deepnote_execution_queue": [],
  "deepnote_notebook_id": "b69fca43c93f440d9977b375b0f85a75",
  "deepnote_persisted_session": {
   "createdAt": "2023-10-30T11:31:38.508Z"
  },
  "kernelspec": {
   "display_name": "Python3",
   "language": "python",
   "name": "python3"
  },
  "language_info": {
   "codemirror_mode": {
    "name": "ipython",
    "version": 3
   },
   "file_extension": ".py",
   "mimetype": "text/x-python",
   "name": "python",
   "nbconvert_exporter": "python",
   "pygments_lexer": "ipython3",
   "version": "3.11.5"
  }
 },
 "nbformat": 4,
 "nbformat_minor": 4
}
